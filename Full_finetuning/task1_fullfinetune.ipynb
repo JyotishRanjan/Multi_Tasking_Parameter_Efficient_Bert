{
 "cells": [
  {
   "cell_type": "code",
   "execution_count": 2,
   "metadata": {},
   "outputs": [],
   "source": [
    "from datasets import load_dataset\n",
    "\n",
    "from transformers import (\n",
    "    AutoTokenizer,\n",
    "    BertModel, BertConfig,\n",
    "   )\n",
    "\n",
    "import torch\n",
    "import torch.nn as nn\n",
    "from torch.utils.data import DataLoader\n",
    "from transformers import AdamW, get_linear_schedule_with_warmup\n",
    "from tqdm import tqdm\n",
    "\n",
    "from peft import LoraConfig\n",
    "import evaluate\n",
    "import torch\n",
    "import numpy as np"
   ]
  },
  {
   "cell_type": "code",
   "execution_count": 3,
   "metadata": {},
   "outputs": [],
   "source": [
    "device = torch.device(\"cuda:0\" if torch.cuda.is_available() else \"cpu\")\n"
   ]
  },
  {
   "cell_type": "code",
   "execution_count": 4,
   "metadata": {},
   "outputs": [],
   "source": [
    "\n",
    "# import accuracy evaluation metric\n",
    "accuracy = evaluate.load(\"accuracy\")\n",
    "rmse = evaluate.load('mse')\n",
    "\n",
    "# define an evaluation function to pass into trainer later\n",
    "def compute_metrics(p):\n",
    "    predictions, labels = p\n",
    "    predictions = np.argmax(predictions, axis=1)\n",
    "\n",
    "    return {\"accuracy\": accuracy.compute(predictions=predictions, references=labels)}"
   ]
  },
  {
   "cell_type": "code",
   "execution_count": 5,
   "metadata": {},
   "outputs": [],
   "source": [
    "base_model_name = \"bert-base-uncased\""
   ]
  },
  {
   "cell_type": "code",
   "execution_count": 6,
   "metadata": {},
   "outputs": [
    {
     "name": "stderr",
     "output_type": "stream",
     "text": [
      "/home/jyotish/isro/MYProjects/nlp_env/lib/python3.12/site-packages/transformers/tokenization_utils_base.py:1601: FutureWarning: `clean_up_tokenization_spaces` was not set. It will be set to `True` by default. This behavior will be depracted in transformers v4.45, and will be then set to `False` by default. For more details check this issue: https://github.com/huggingface/transformers/issues/31884\n",
      "  warnings.warn(\n"
     ]
    }
   ],
   "source": [
    "from dataloaders.task1 import dataLoader as dataLoader1\n",
    "from dataloaders.task2 import dataLoader as dataLoader2\n",
    "from dataloaders.task3 import dataLoader as dataLoader3\n",
    "from dataloaders.task4 import dataLoader as dataLoader4\n",
    "\n",
    "batch_size = 50\n",
    "\n",
    "task1_train_dataloader,task1_val_dataloader,task1_test_dataloader = dataLoader1(base_model_name,batch_size=batch_size)\n",
    "# task2_train_dataloader,task2_val_dataloader,task2_test_dataloader = dataLoader2(base_model_name,batch_size=batch_size)\n",
    "# task3_train_dataloader,task3_val_dataloader = dataLoader3(base_model_name,batch_size=batch_size)\n",
    "# task4_train_dataloader,task4_val_dataloader,task4_test_dataloader = dataLoader4(base_model_name,batch_size=batch_size)"
   ]
  },
  {
   "cell_type": "code",
   "execution_count": 7,
   "metadata": {},
   "outputs": [],
   "source": [
    "class BertForSEQCLF(nn.Module):\n",
    "    def __init__(self, hidden_size, num_labels):\n",
    "        super(BertForSEQCLF, self).__init__()\n",
    "        self.classifier = nn.Linear(hidden_size, num_labels)\n",
    "\n",
    "    def forward(self, sequence_output):\n",
    "        logits = self.classifier(sequence_output[:, 0])  # Take the [CLS] token's hidden state\n",
    "        return logits\n",
    "\n",
    "class BertForTextSummarization(nn.Module):\n",
    "    def __init__(self, hidden_size):\n",
    "        super(BertForTextSummarization, self).__init__()\n",
    "        self.decoder = nn.Linear(hidden_size, hidden_size)  # You may want to use a more sophisticated decoder\n",
    "\n",
    "    def forward(self, sequence_output):\n",
    "        return self.decoder(sequence_output)\n",
    "    \n",
    "import torch.nn.functional as F\n",
    "\n",
    "class BertForSTS(nn.Module):\n",
    "    def __init__(self, hidden_size):\n",
    "        super(BertForSTS, self).__init__()\n",
    "        self.dense = nn.Linear(hidden_size, 1)\n",
    "        # self.sigmoid = nn.Sigmoid()\n",
    "\n",
    "    def forward(self, pooled_output):\n",
    "        # pooled_output = sequence_output[:, 0]  # Using [CLS] token output\n",
    "        logits = self.dense(pooled_output)\n",
    "        # scaled_logit = 5 * self.sigmoid(logits)\n",
    "         # Approximate sigmoid using two ReLUs\n",
    "        approx_sigmoid = F.relu(logits) - F.relu(logits - 5)\n",
    "        return approx_sigmoid\n",
    "        # return scaled_logit\n",
    "        \n",
    "class BertForQuestionAnswering(nn.Module):\n",
    "    def __init__(self, hidden_size):\n",
    "        super(BertForQuestionAnswering, self).__init__()\n",
    "        self.qa_outputs = nn.Linear(hidden_size, 2)\n",
    "\n",
    "    def forward(self, sequence_output):\n",
    "        logits = self.qa_outputs(sequence_output)\n",
    "        start_logits, end_logits = logits.split(1, dim=-1)\n",
    "        start_logits = start_logits.squeeze(-1)\n",
    "        end_logits = end_logits.squeeze(-1)\n",
    "        return {'start_logits' :start_logits, \"end_logits\" : end_logits}\n"
   ]
  },
  {
   "cell_type": "code",
   "execution_count": 8,
   "metadata": {},
   "outputs": [],
   "source": [
    "class UnifiedModel(nn.Module):\n",
    "    def __init__(self, base_model_name):\n",
    "        super(UnifiedModel, self).__init__()\n",
    "        config = BertConfig.from_pretrained(base_model_name)\n",
    "        self.base_model = BertModel.from_pretrained(base_model_name, config=config)\n",
    "        self.task1_head = BertForSEQCLF(self.base_model.config.hidden_size, 2)\n",
    "    \n",
    "    def forward(self, input_ids, attention_mask=None, token_type_ids = None, task=\"task1\"):\n",
    "        base_outputs = self.base_model(input_ids, attention_mask=attention_mask)\n",
    "        sequence_output = base_outputs[0]\n",
    "        return self.task1_head(sequence_output)\n",
    "    \n",
    "    def unfreeze_parameters(self):\n",
    "        # Unfreeze base model parameters\n",
    "        for param in self.base_model.parameters():\n",
    "            param.requires_grad = True\n",
    "        \n",
    "        # Unfreeze task-specific heads parameters\n",
    "        for param in self.task1_head.parameters():\n",
    "            param.requires_grad = True\n"
   ]
  },
  {
   "cell_type": "code",
   "execution_count": 9,
   "metadata": {},
   "outputs": [],
   "source": [
    "from train_val_test.task1_train_test_val import train as task1_train,validate as task1_validate\n"
   ]
  },
  {
   "cell_type": "code",
   "execution_count": 10,
   "metadata": {},
   "outputs": [
    {
     "name": "stderr",
     "output_type": "stream",
     "text": [
      "Validation: 100%|██████████| 18/18 [00:03<00:00,  5.78it/s]"
     ]
    },
    {
     "name": "stdout",
     "output_type": "stream",
     "text": [
      "Validation Loss: 0.7318 Accuracy : {'accuracy': 0.49311926605504586}\n"
     ]
    },
    {
     "name": "stderr",
     "output_type": "stream",
     "text": [
      "\n"
     ]
    }
   ],
   "source": [
    "loss_fn = nn.CrossEntropyLoss()\n",
    "\n",
    "unified_model = UnifiedModel(base_model_name)\n",
    "unified_model.unfreeze_parameters()\n",
    "unified_model.to(device)\n",
    "\n",
    "z = task1_validate(unified_model,task1_val_dataloader,loss_fn,'task1')"
   ]
  },
  {
   "cell_type": "code",
   "execution_count": 11,
   "metadata": {},
   "outputs": [
    {
     "name": "stdout",
     "output_type": "stream",
     "text": [
      "Trainable parameters: 109,483,778\n",
      "Total parameters: 109,483,778\n"
     ]
    }
   ],
   "source": [
    "def print_trainable_parameters(model):\n",
    "    trainable_params = sum(p.numel() for p in model.parameters() if p.requires_grad)\n",
    "    total_params = sum(p.numel() for p in model.parameters())\n",
    "    print(f\"Trainable parameters: {trainable_params:,}\")\n",
    "    print(f\"Total parameters: {total_params:,}\")\n",
    "\n",
    "print_trainable_parameters(unified_model)"
   ]
  },
  {
   "cell_type": "code",
   "execution_count": 13,
   "metadata": {},
   "outputs": [
    {
     "name": "stderr",
     "output_type": "stream",
     "text": [
      "/home/jyotish/isro/MYProjects/nlp_env/lib/python3.12/site-packages/transformers/optimization.py:591: FutureWarning: This implementation of AdamW is deprecated and will be removed in a future version. Use the PyTorch implementation torch.optim.AdamW instead, or set `no_deprecation_warning=True` to disable this warning\n",
      "  warnings.warn(\n",
      "Training Epoch 1: 100%|██████████| 1347/1347 [10:20<00:00,  2.17it/s]\n"
     ]
    },
    {
     "name": "stdout",
     "output_type": "stream",
     "text": [
      "Training Loss: 0.1237\n"
     ]
    },
    {
     "name": "stderr",
     "output_type": "stream",
     "text": [
      "Validation: 100%|██████████| 18/18 [00:02<00:00,  6.44it/s]\n"
     ]
    },
    {
     "name": "stdout",
     "output_type": "stream",
     "text": [
      "Validation Loss: 0.2132 Accuracy : {'accuracy': 0.9220183486238532}\n",
      "New best model saved with validation loss: 0.2132\n"
     ]
    },
    {
     "name": "stderr",
     "output_type": "stream",
     "text": [
      "Training Epoch 2: 100%|██████████| 1347/1347 [10:20<00:00,  2.17it/s]\n"
     ]
    },
    {
     "name": "stdout",
     "output_type": "stream",
     "text": [
      "Training Loss: 0.0570\n"
     ]
    },
    {
     "name": "stderr",
     "output_type": "stream",
     "text": [
      "Validation: 100%|██████████| 18/18 [00:02<00:00,  6.45it/s]"
     ]
    },
    {
     "name": "stdout",
     "output_type": "stream",
     "text": [
      "Validation Loss: 0.2215 Accuracy : {'accuracy': 0.926605504587156}\n"
     ]
    },
    {
     "name": "stderr",
     "output_type": "stream",
     "text": [
      "\n"
     ]
    }
   ],
   "source": [
    "model1 = task1_train(model1, task1_train_dataloader, task1_val_dataloader,loss_fn, num_epochs=2, learning_rate=5e-5,task = 'task1')"
   ]
  }
 ],
 "metadata": {
  "kernelspec": {
   "display_name": "nlp_env",
   "language": "python",
   "name": "python3"
  },
  "language_info": {
   "codemirror_mode": {
    "name": "ipython",
    "version": 3
   },
   "file_extension": ".py",
   "mimetype": "text/x-python",
   "name": "python",
   "nbconvert_exporter": "python",
   "pygments_lexer": "ipython3",
   "version": "3.12.5"
  }
 },
 "nbformat": 4,
 "nbformat_minor": 2
}
